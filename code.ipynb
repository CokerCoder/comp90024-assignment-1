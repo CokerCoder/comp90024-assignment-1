{
 "metadata": {
  "language_info": {
   "codemirror_mode": {
    "name": "ipython",
    "version": 3
   },
   "file_extension": ".py",
   "mimetype": "text/x-python",
   "name": "python",
   "nbconvert_exporter": "python",
   "pygments_lexer": "ipython3",
   "version": "3.8.6-final"
  },
  "orig_nbformat": 2,
  "kernelspec": {
   "name": "python3",
   "display_name": "Python 3.8.6 64-bit",
   "metadata": {
    "interpreter": {
     "hash": "0fa9fe373fd0ef5bc621353a7709c258fba38f84df00eab1f1d1ddb0afa1c3b8"
    }
   }
  }
 },
 "nbformat": 4,
 "nbformat_minor": 2,
 "cells": [
  {
   "cell_type": "code",
   "execution_count": 4,
   "metadata": {},
   "outputs": [],
   "source": [
    "import json\n",
    "import re\n",
    "from collections import defaultdict\n",
    "\n",
    "import timeit\n",
    "\n",
    "# Read words in to a dictionary\n",
    "def read_words(filename):\n",
    "    file = open(filename)\n",
    "    word_dict = {}\n",
    "    for line in file.readlines():\n",
    "        pair = line.strip().split(\"\\t\")\n",
    "        word_dict[pair[0]] = int(pair[1])\n",
    "    \n",
    "    # filter out the phrases with two or more words\n",
    "    phrase_dict = defaultdict(int, {k: v for k, v in word_dict.items() if len(k.split())>1})\n",
    "\n",
    "    # keep the words has only one word\n",
    "    word_dict = defaultdict(int, {k : word_dict[k] for k in set(word_dict) - set(phrase_dict)})\n",
    "\n",
    "    return (word_dict, phrase_dict)\n",
    "\n",
    "\n",
    "# Load melbGrid\n",
    "def load_grids(filename):\n",
    "    location_list = [] # Store grid information\n",
    "    with open(filename, 'r') as f:\n",
    "        grid_dic = json.load(f)\n",
    "        for location_dict in grid_dic['features']:\n",
    "            location_list.append(location_dict['properties'])\n",
    "    return location_list\n",
    "\n",
    "\n",
    "# Given coordinate and grid information return a location id\n",
    "def get_id(coordinate, location_list):\n",
    "    x = coordinate[0]\n",
    "    y = coordinate[1]\n",
    "    for location in location_list:\n",
    "        if x > location['xmin'] and x <= location['xmax'] \\\n",
    "            and y > location['ymin'] and y <= location['ymax']:\n",
    "            return location['id']\n",
    "    return False\n",
    "\n",
    "\n",
    "# Load coordinate and text\n",
    "def load_twitter(filename):\n",
    "    twitter_list = [] # Only store tweets in the specified location\n",
    "    with open(filename, 'r', encoding = 'utf-8') as f:\n",
    "        twitter_dic = json.load(f)\n",
    "\n",
    "    for row in twitter_dic['rows']:\n",
    "        coordinate = row['value']['geometry']['coordinates']\n",
    "        _id = get_id(coordinate, location_list)\n",
    "        if _id:\n",
    "            text = row['value']['properties']['text']\n",
    "            twitter_list.append((_id, text))\n",
    "    return twitter_list\n",
    "\n",
    "(word_dict, phrase_dict) = read_words('AFINN.txt')\n",
    "location_list = load_grids('melbGrid.json')\n",
    "twitter_list = load_twitter('smallTwitter.json')"
   ]
  },
  {
   "cell_type": "code",
   "execution_count": 20,
   "metadata": {},
   "outputs": [
    {
     "output_type": "stream",
     "name": "stdout",
     "text": [
      "[\"can't stand\"]\nI for this #good things!? Not good so far,not good\n['Not good']\nI for this #good things!? Not good so far,not good\n['i', 'for', 'this', '#good', 'things', 'not', 'good', 'so', 'far,not', 'good']\n"
     ]
    }
   ],
   "source": [
    "text = \"I can't stand for this #good things!? Not good so far,not good\"\n",
    "# first check all the phrase (words with two or more words), and if occur, remove it from the text\n",
    "for k,v in phrase_dict.items():\n",
    "    # using regex to find all occurance of the phrase\n",
    "    phrases = re.findall(r\"(?:\\s+|^)({}[!,?.'\\\"]*)(?=\\s+|$)\".format(k), text, re.I)\n",
    "    if phrases:\n",
    "        print(phrases)\n",
    "        # remove the corresponding phrase from the twitter\n",
    "        text = re.sub(r\"(?:\\s+|^)({}[!,?.'\\\"]*)(?=\\s+|$)\".format(k), \"\", text, flags = re.I)\n",
    "        print(text)\n",
    "        \n",
    "# clean the unwanted data\n",
    "word_list = [word.rstrip('!,?.\\'\\\"').lower() for word in text.split()]\n",
    "print(word_list)\n",
    "\n"
   ]
  }
 ]
}