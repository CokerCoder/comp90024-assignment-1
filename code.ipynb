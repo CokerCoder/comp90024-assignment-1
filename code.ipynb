{
 "metadata": {
  "language_info": {
   "codemirror_mode": {
    "name": "ipython",
    "version": 3
   },
   "file_extension": ".py",
   "mimetype": "text/x-python",
   "name": "python",
   "nbconvert_exporter": "python",
   "pygments_lexer": "ipython3",
   "version": "3.8.6-final"
  },
  "orig_nbformat": 2,
  "kernelspec": {
   "name": "python3",
   "display_name": "Python 3.8.6 64-bit",
   "metadata": {
    "interpreter": {
     "hash": "0fa9fe373fd0ef5bc621353a7709c258fba38f84df00eab1f1d1ddb0afa1c3b8"
    }
   }
  }
 },
 "nbformat": 4,
 "nbformat_minor": 2,
 "cells": [
  {
   "cell_type": "code",
   "execution_count": 1,
   "metadata": {},
   "outputs": [],
   "source": [
    "import json"
   ]
  },
  {
   "cell_type": "code",
   "execution_count": 2,
   "metadata": {
    "tags": []
   },
   "outputs": [],
   "source": [
    "# Read words in to a dictionary\n",
    "file = open('AFINN.txt')\n",
    "word_dict = {}\n",
    "for line in file.readlines():\n",
    "    pair = line.split(\"\\t\")\n",
    "    word_dict[pair[0]] = pair[1]"
   ]
  },
  {
   "source": [
    "# Load melbGrid\n",
    "location_list = [] # Store grid information\n",
    "with open('melbGrid.json', 'r') as f:\n",
    "    grid_dic = json.load(f)\n",
    "    for location_dict in grid_dic['features']:\n",
    "        location_list.append(location_dict['properties'])"
   ],
   "cell_type": "code",
   "metadata": {},
   "execution_count": 10,
   "outputs": []
  },
  {
   "cell_type": "code",
   "execution_count": 23,
   "metadata": {},
   "outputs": [
    {
     "output_type": "stream",
     "name": "stdout",
     "text": [
      "B2\n"
     ]
    }
   ],
   "source": [
    "# Given coordinate and grid information return a location id\n",
    "def get_id(coordinate, location_list):\n",
    "    x = coordinate[0]\n",
    "    y = coordinate[1]\n",
    "    for location in location_list:\n",
    "        if x > location['xmin'] and x <= location['xmax'] \\\n",
    "            and y > location['ymin'] and y <= location['ymax']:\n",
    "            return location['id']\n",
    "    return False\n",
    "print(get_id([145, -37.65], location_list))"
   ]
  },
  {
   "cell_type": "code",
   "execution_count": 21,
   "metadata": {},
   "outputs": [
    {
     "output_type": "stream",
     "name": "stdout",
     "text": [
      "('C2', \"I'm at @RivaStkilda in St Kilda, VIC https://t.co/kEbicNcmnP\")\n"
     ]
    }
   ],
   "source": [
    "# Load coordinate and text\n",
    "twitter_list = [] # Only sotre tweet in the specified location\n",
    "with open('tinyTwitter.json', 'r', encoding = 'utf-8') as f:\n",
    "    twitter_dic = json.load(f)\n",
    "\n",
    "for row in twitter_dic['rows']:\n",
    "    coordinate = row['value']['geometry']['coordinates']\n",
    "    id = get_id(coordinate, location_list)\n",
    "    if id:\n",
    "        text = row['value']['properties']['text']\n",
    "        twitter_list.append((id, text))\n",
    "print(twitter_list[0])"
   ]
  },
  {
   "cell_type": "code",
   "execution_count": null,
   "metadata": {},
   "outputs": [],
   "source": []
  }
 ]
}