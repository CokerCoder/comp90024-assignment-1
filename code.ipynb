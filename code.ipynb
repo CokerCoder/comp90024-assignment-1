{
 "metadata": {
  "language_info": {
   "codemirror_mode": {
    "name": "ipython",
    "version": 3
   },
   "file_extension": ".py",
   "mimetype": "text/x-python",
   "name": "python",
   "nbconvert_exporter": "python",
   "pygments_lexer": "ipython3",
   "version": "3.8.6-final"
  },
  "orig_nbformat": 2,
  "kernelspec": {
   "name": "python3",
   "display_name": "Python 3.8.6 64-bit",
   "metadata": {
    "interpreter": {
     "hash": "0fa9fe373fd0ef5bc621353a7709c258fba38f84df00eab1f1d1ddb0afa1c3b8"
    }
   }
  }
 },
 "nbformat": 4,
 "nbformat_minor": 2,
 "cells": [
  {
   "cell_type": "code",
   "execution_count": 48,
   "metadata": {},
   "outputs": [],
   "source": [
    "import json\n",
    "from collections import defaultdict"
   ]
  },
  {
   "cell_type": "code",
   "execution_count": 50,
   "metadata": {
    "tags": []
   },
   "outputs": [],
   "source": [
    "# Read words in to a dictionary\n",
    "file = open('AFINN.txt')\n",
    "word_dict = defaultdict(int)\n",
    "for line in file.readlines():\n",
    "    pair = line.rstrip().split(\"\\t\")\n",
    "    word = pair[0]\n",
    "    score = int(pair[1])\n",
    "    word_dict[word] = score"
   ]
  },
  {
   "cell_type": "code",
   "execution_count": 68,
   "metadata": {
    "tags": []
   },
   "outputs": [
    {
     "output_type": "stream",
     "name": "stdout",
     "text": [
      "can't stand\ncashing in\ncool stuff\ndoes not work\ndont like\nfed up\ngreen wash\ngreen washing\nmessing up\nno fun\nnot good\nnot working\nright direction\nscrewed up\nsome kind\n"
     ]
    }
   ],
   "source": [
    "for key in word_dict.keys():\n",
    "    if len(key.split(' '))>1:\n",
    "        print(key)"
   ]
  },
  {
   "cell_type": "code",
   "execution_count": 78,
   "metadata": {
    "tags": []
   },
   "outputs": [
    {
     "output_type": "stream",
     "name": "stdout",
     "text": [
      "cover-up\nmade-up\nonce-in-a-lifetime\nself-confident\nself-deluded\nshort-sighted\nshort-sightedness\nson-of-a-bitch\n"
     ]
    }
   ],
   "source": [
    "\n",
    "for word in word_dict.keys():\n",
    "    if '-' in word:\n",
    "        print(word)"
   ]
  },
  {
   "source": [
    "# Load melbGrid\n",
    "location_list = [] # Store grid information\n",
    "with open('melbGrid.json', 'r') as f:\n",
    "    grid_dic = json.load(f)\n",
    "    for location_dict in grid_dic['features']:\n",
    "        location_list.append(location_dict['properties'])"
   ],
   "cell_type": "code",
   "metadata": {},
   "execution_count": 79,
   "outputs": []
  },
  {
   "cell_type": "code",
   "execution_count": 80,
   "metadata": {},
   "outputs": [
    {
     "output_type": "stream",
     "name": "stdout",
     "text": [
      "B2\n"
     ]
    }
   ],
   "source": [
    "# Given coordinate and grid information return a location id\n",
    "def get_id(coordinate, location_list):\n",
    "    x = coordinate[0]\n",
    "    y = coordinate[1]\n",
    "    for location in location_list:\n",
    "        if x > location['xmin'] and x <= location['xmax'] \\\n",
    "            and y > location['ymin'] and y <= location['ymax']:\n",
    "            return location['id']\n",
    "    return False\n",
    "print(get_id([145, -37.65], location_list))"
   ]
  },
  {
   "cell_type": "code",
   "execution_count": 111,
   "metadata": {},
   "outputs": [
    {
     "output_type": "stream",
     "name": "stdout",
     "text": [
      "('C2', \"I'm at @RivaStkilda in St Kilda, VIC https://t.co/kEbicNcmnP\")\n"
     ]
    }
   ],
   "source": [
    "# Load coordinate and text\n",
    "twitter_list = [] # Only sotre tweet in the specified location\n",
    "with open('smallTwitter.json', 'r', encoding = 'utf-8') as f:\n",
    "    twitter_dic = json.load(f)\n",
    "\n",
    "for row in twitter_dic['rows']:\n",
    "    coordinate = row['value']['geometry']['coordinates']\n",
    "    id = get_id(coordinate, location_list)\n",
    "    if id:\n",
    "        text = row['value']['properties']['text']\n",
    "        twitter_list.append((id, text))\n",
    "print(twitter_list[0])"
   ]
  },
  {
   "cell_type": "code",
   "execution_count": 136,
   "metadata": {},
   "outputs": [
    {
     "output_type": "stream",
     "name": "stdout",
     "text": [
      "Good guidance goOd! all you ide as people!\n['Good', 'goOd']\n"
     ]
    }
   ],
   "source": [
    "# Take a single word and a text as input, return multiple matches of the word in that text as a list. \n",
    "import re\n",
    "def allwords(word, text):\n",
    "    text = re.sub(r'\\W\\b', ' ',text)\n",
    "    print(text)\n",
    "    return re.findall(r'\\b%s\\b' % word, text, re.I)\n",
    "\n",
    "print(allwords('good', \"Good guidance goOd! all you ide'as people!\"))\n",
    "    "
   ]
  },
  {
   "cell_type": "code",
   "execution_count": 44,
   "metadata": {
    "tags": []
   },
   "outputs": [],
   "source": [
    "# The whole text match\n",
    "score_dict = {}\n",
    "for location, text in twitter_list:\n",
    "    for word in word_dict.keys():\n",
    "        word_list = allwords(word, text)\n",
    "        length = len(word_list)\n",
    "        if length > 0:\n",
    "            score = length * word_dict[word]\n",
    "            if location in score_dict:\n",
    "                score_dict[location] += score\n",
    "            else:\n",
    "                score_dict[location] = score\n",
    "        "
   ]
  },
  {
   "cell_type": "code",
   "execution_count": 118,
   "metadata": {},
   "outputs": [
    {
     "output_type": "stream",
     "name": "stdout",
     "text": [
      "ha I'm not gooD not good naïve  I can't stand for hahahathis hard-working  #not Good once-in-a-liFetime \n['not gooD', 'not good', \"can't stand\", 'not Good']\n['ha', \"I'm\", '', '', '', '', 'naïve', '', 'I', '', '', 'for', 'hahahathis', 'hard-working', '', '#', '', 'once-in-a-liFetime', '']\n"
     ]
    }
   ],
   "source": [
    "import re\n",
    "t = \"ha I'm not gooD,not good naïve. I can't stand for hahahathis hard-working! #not Good once-in-a-liFetime.\"\n",
    "pattern1 = re.compile(r'can\\'t stand|cashing in|cool stuff|does not work|dont like|fed up|green wash|green washing|messing up|no fun|not good\\b|not working|right direction|screwed up|some kind', re.I)\n",
    "pattern2 = re.compile(r'can\\'t stand|cashing in|cool stuff|does not work|dont like|fed up|green wash|green washing|messing up|no fun|not good|not working|right direction|screwed up|some kind|[ !?.\\\"]|\\'\\W', re.I)\n",
    "t1 = re.sub(r'\\b[!?.,\\\"]|\\'\\W', ' ',t)\n",
    "print(t1)\n",
    "print(pattern1.findall(t1))\n",
    "print(pattern2.split(t1))\n"
   ]
  },
  {
   "cell_type": "code",
   "execution_count": 85,
   "metadata": {},
   "outputs": [
    {
     "output_type": "execute_result",
     "data": {
      "text/plain": [
       "0"
      ]
     },
     "metadata": {},
     "execution_count": 85
    }
   ],
   "source": [
    "word_dict['naïve']"
   ]
  }
 ]
}